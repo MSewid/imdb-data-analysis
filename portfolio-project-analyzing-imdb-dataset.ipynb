{
 "cells": [
  {
   "cell_type": "markdown",
   "id": "91443a1d",
   "metadata": {
    "papermill": {
     "duration": 0.006616,
     "end_time": "2025-02-14T19:31:09.314486",
     "exception": false,
     "start_time": "2025-02-14T19:31:09.307870",
     "status": "completed"
    },
    "tags": []
   },
   "source": [
    "# *This project focuses on cleaning, analyzing, visualizing, and extracting key insights from the IMDb dataset*\n",
    "---"
   ]
  },
  {
   "cell_type": "code",
   "execution_count": 1,
   "id": "adb942cb",
   "metadata": {
    "execution": {
     "iopub.execute_input": "2025-02-14T19:31:09.328239Z",
     "iopub.status.busy": "2025-02-14T19:31:09.327916Z",
     "iopub.status.idle": "2025-02-14T19:31:11.784215Z",
     "shell.execute_reply": "2025-02-14T19:31:11.783286Z"
    },
    "papermill": {
     "duration": 2.464677,
     "end_time": "2025-02-14T19:31:11.786095",
     "exception": false,
     "start_time": "2025-02-14T19:31:09.321418",
     "status": "completed"
    },
    "tags": []
   },
   "outputs": [],
   "source": [
    "import pandas as pd\n",
    "import numpy as np\n",
    "import matplotlib.pyplot as plt\n",
    "import seaborn as sns"
   ]
  },
  {
   "cell_type": "code",
   "execution_count": 2,
   "id": "4f050340",
   "metadata": {
    "execution": {
     "iopub.execute_input": "2025-02-14T19:31:11.798272Z",
     "iopub.status.busy": "2025-02-14T19:31:11.797762Z",
     "iopub.status.idle": "2025-02-14T19:31:11.861735Z",
     "shell.execute_reply": "2025-02-14T19:31:11.860676Z"
    },
    "papermill": {
     "duration": 0.071947,
     "end_time": "2025-02-14T19:31:11.863510",
     "exception": false,
     "start_time": "2025-02-14T19:31:11.791563",
     "status": "completed"
    },
    "tags": []
   },
   "outputs": [
    {
     "data": {
      "text/html": [
       "<div>\n",
       "<style scoped>\n",
       "    .dataframe tbody tr th:only-of-type {\n",
       "        vertical-align: middle;\n",
       "    }\n",
       "\n",
       "    .dataframe tbody tr th {\n",
       "        vertical-align: top;\n",
       "    }\n",
       "\n",
       "    .dataframe thead th {\n",
       "        text-align: right;\n",
       "    }\n",
       "</style>\n",
       "<table border=\"1\" class=\"dataframe\">\n",
       "  <thead>\n",
       "    <tr style=\"text-align: right;\">\n",
       "      <th></th>\n",
       "      <th>Poster_Link</th>\n",
       "      <th>Series_Title</th>\n",
       "      <th>Released_Year</th>\n",
       "      <th>Certificate</th>\n",
       "      <th>Runtime</th>\n",
       "      <th>Genre</th>\n",
       "      <th>IMDB_Rating</th>\n",
       "      <th>Overview</th>\n",
       "      <th>Meta_score</th>\n",
       "      <th>Director</th>\n",
       "      <th>Star1</th>\n",
       "      <th>Star2</th>\n",
       "      <th>Star3</th>\n",
       "      <th>Star4</th>\n",
       "      <th>No_of_Votes</th>\n",
       "      <th>Gross</th>\n",
       "    </tr>\n",
       "  </thead>\n",
       "  <tbody>\n",
       "    <tr>\n",
       "      <th>0</th>\n",
       "      <td>https://m.media-amazon.com/images/M/MV5BMDFkYT...</td>\n",
       "      <td>The Shawshank Redemption</td>\n",
       "      <td>1994</td>\n",
       "      <td>A</td>\n",
       "      <td>142 min</td>\n",
       "      <td>Drama</td>\n",
       "      <td>9.3</td>\n",
       "      <td>Two imprisoned men bond over a number of years...</td>\n",
       "      <td>80.0</td>\n",
       "      <td>Frank Darabont</td>\n",
       "      <td>Tim Robbins</td>\n",
       "      <td>Morgan Freeman</td>\n",
       "      <td>Bob Gunton</td>\n",
       "      <td>William Sadler</td>\n",
       "      <td>2343110</td>\n",
       "      <td>28,341,469</td>\n",
       "    </tr>\n",
       "    <tr>\n",
       "      <th>1</th>\n",
       "      <td>https://m.media-amazon.com/images/M/MV5BM2MyNj...</td>\n",
       "      <td>The Godfather</td>\n",
       "      <td>1972</td>\n",
       "      <td>A</td>\n",
       "      <td>175 min</td>\n",
       "      <td>Crime, Drama</td>\n",
       "      <td>9.2</td>\n",
       "      <td>An organized crime dynasty's aging patriarch t...</td>\n",
       "      <td>100.0</td>\n",
       "      <td>Francis Ford Coppola</td>\n",
       "      <td>Marlon Brando</td>\n",
       "      <td>Al Pacino</td>\n",
       "      <td>James Caan</td>\n",
       "      <td>Diane Keaton</td>\n",
       "      <td>1620367</td>\n",
       "      <td>134,966,411</td>\n",
       "    </tr>\n",
       "    <tr>\n",
       "      <th>2</th>\n",
       "      <td>https://m.media-amazon.com/images/M/MV5BMTMxNT...</td>\n",
       "      <td>The Dark Knight</td>\n",
       "      <td>2008</td>\n",
       "      <td>UA</td>\n",
       "      <td>152 min</td>\n",
       "      <td>Action, Crime, Drama</td>\n",
       "      <td>9.0</td>\n",
       "      <td>When the menace known as the Joker wreaks havo...</td>\n",
       "      <td>84.0</td>\n",
       "      <td>Christopher Nolan</td>\n",
       "      <td>Christian Bale</td>\n",
       "      <td>Heath Ledger</td>\n",
       "      <td>Aaron Eckhart</td>\n",
       "      <td>Michael Caine</td>\n",
       "      <td>2303232</td>\n",
       "      <td>534,858,444</td>\n",
       "    </tr>\n",
       "    <tr>\n",
       "      <th>3</th>\n",
       "      <td>https://m.media-amazon.com/images/M/MV5BMWMwMG...</td>\n",
       "      <td>The Godfather: Part II</td>\n",
       "      <td>1974</td>\n",
       "      <td>A</td>\n",
       "      <td>202 min</td>\n",
       "      <td>Crime, Drama</td>\n",
       "      <td>9.0</td>\n",
       "      <td>The early life and career of Vito Corleone in ...</td>\n",
       "      <td>90.0</td>\n",
       "      <td>Francis Ford Coppola</td>\n",
       "      <td>Al Pacino</td>\n",
       "      <td>Robert De Niro</td>\n",
       "      <td>Robert Duvall</td>\n",
       "      <td>Diane Keaton</td>\n",
       "      <td>1129952</td>\n",
       "      <td>57,300,000</td>\n",
       "    </tr>\n",
       "    <tr>\n",
       "      <th>4</th>\n",
       "      <td>https://m.media-amazon.com/images/M/MV5BMWU4N2...</td>\n",
       "      <td>12 Angry Men</td>\n",
       "      <td>1957</td>\n",
       "      <td>U</td>\n",
       "      <td>96 min</td>\n",
       "      <td>Crime, Drama</td>\n",
       "      <td>9.0</td>\n",
       "      <td>A jury holdout attempts to prevent a miscarria...</td>\n",
       "      <td>96.0</td>\n",
       "      <td>Sidney Lumet</td>\n",
       "      <td>Henry Fonda</td>\n",
       "      <td>Lee J. Cobb</td>\n",
       "      <td>Martin Balsam</td>\n",
       "      <td>John Fiedler</td>\n",
       "      <td>689845</td>\n",
       "      <td>4,360,000</td>\n",
       "    </tr>\n",
       "  </tbody>\n",
       "</table>\n",
       "</div>"
      ],
      "text/plain": [
       "                                         Poster_Link  \\\n",
       "0  https://m.media-amazon.com/images/M/MV5BMDFkYT...   \n",
       "1  https://m.media-amazon.com/images/M/MV5BM2MyNj...   \n",
       "2  https://m.media-amazon.com/images/M/MV5BMTMxNT...   \n",
       "3  https://m.media-amazon.com/images/M/MV5BMWMwMG...   \n",
       "4  https://m.media-amazon.com/images/M/MV5BMWU4N2...   \n",
       "\n",
       "               Series_Title Released_Year Certificate  Runtime  \\\n",
       "0  The Shawshank Redemption          1994           A  142 min   \n",
       "1             The Godfather          1972           A  175 min   \n",
       "2           The Dark Knight          2008          UA  152 min   \n",
       "3    The Godfather: Part II          1974           A  202 min   \n",
       "4              12 Angry Men          1957           U   96 min   \n",
       "\n",
       "                  Genre  IMDB_Rating  \\\n",
       "0                 Drama          9.3   \n",
       "1          Crime, Drama          9.2   \n",
       "2  Action, Crime, Drama          9.0   \n",
       "3          Crime, Drama          9.0   \n",
       "4          Crime, Drama          9.0   \n",
       "\n",
       "                                            Overview  Meta_score  \\\n",
       "0  Two imprisoned men bond over a number of years...        80.0   \n",
       "1  An organized crime dynasty's aging patriarch t...       100.0   \n",
       "2  When the menace known as the Joker wreaks havo...        84.0   \n",
       "3  The early life and career of Vito Corleone in ...        90.0   \n",
       "4  A jury holdout attempts to prevent a miscarria...        96.0   \n",
       "\n",
       "               Director           Star1           Star2          Star3  \\\n",
       "0        Frank Darabont     Tim Robbins  Morgan Freeman     Bob Gunton   \n",
       "1  Francis Ford Coppola   Marlon Brando       Al Pacino     James Caan   \n",
       "2     Christopher Nolan  Christian Bale    Heath Ledger  Aaron Eckhart   \n",
       "3  Francis Ford Coppola       Al Pacino  Robert De Niro  Robert Duvall   \n",
       "4          Sidney Lumet     Henry Fonda     Lee J. Cobb  Martin Balsam   \n",
       "\n",
       "            Star4  No_of_Votes        Gross  \n",
       "0  William Sadler      2343110   28,341,469  \n",
       "1    Diane Keaton      1620367  134,966,411  \n",
       "2   Michael Caine      2303232  534,858,444  \n",
       "3    Diane Keaton      1129952   57,300,000  \n",
       "4    John Fiedler       689845    4,360,000  "
      ]
     },
     "execution_count": 2,
     "metadata": {},
     "output_type": "execute_result"
    }
   ],
   "source": [
    "# Load the dataset\n",
    "df = pd.read_csv('/kaggle/input/imdb-dataset-of-top-1000-movies-and-tv-shows/imdb_top_1000.csv')\n",
    "\n",
    "# Display the first 5 rows\n",
    "df.head()"
   ]
  },
  {
   "cell_type": "markdown",
   "id": "0bf2cf62",
   "metadata": {
    "papermill": {
     "duration": 0.005245,
     "end_time": "2025-02-14T19:31:11.874440",
     "exception": false,
     "start_time": "2025-02-14T19:31:11.869195",
     "status": "completed"
    },
    "tags": []
   },
   "source": [
    "## Data Cleaning"
   ]
  },
  {
   "cell_type": "code",
   "execution_count": 3,
   "id": "91ac0761",
   "metadata": {
    "execution": {
     "iopub.execute_input": "2025-02-14T19:31:11.886167Z",
     "iopub.status.busy": "2025-02-14T19:31:11.885790Z",
     "iopub.status.idle": "2025-02-14T19:31:11.892719Z",
     "shell.execute_reply": "2025-02-14T19:31:11.891607Z"
    },
    "papermill": {
     "duration": 0.014616,
     "end_time": "2025-02-14T19:31:11.894240",
     "exception": false,
     "start_time": "2025-02-14T19:31:11.879624",
     "status": "completed"
    },
    "tags": []
   },
   "outputs": [
    {
     "name": "stdout",
     "output_type": "stream",
     "text": [
      "Poster_Link       object\n",
      "Series_Title      object\n",
      "Released_Year     object\n",
      "Certificate       object\n",
      "Runtime           object\n",
      "Genre             object\n",
      "IMDB_Rating      float64\n",
      "Overview          object\n",
      "Meta_score       float64\n",
      "Director          object\n",
      "Star1             object\n",
      "Star2             object\n",
      "Star3             object\n",
      "Star4             object\n",
      "No_of_Votes        int64\n",
      "Gross             object\n",
      "dtype: object\n",
      " \n",
      "(1000, 16)\n"
     ]
    }
   ],
   "source": [
    "# Check data types\n",
    "print(df.dtypes)\n",
    "print(\" \")\n",
    "print(df.shape)"
   ]
  },
  {
   "cell_type": "code",
   "execution_count": 4,
   "id": "3f746193",
   "metadata": {
    "execution": {
     "iopub.execute_input": "2025-02-14T19:31:11.906596Z",
     "iopub.status.busy": "2025-02-14T19:31:11.906240Z",
     "iopub.status.idle": "2025-02-14T19:31:11.915817Z",
     "shell.execute_reply": "2025-02-14T19:31:11.914879Z"
    },
    "papermill": {
     "duration": 0.017351,
     "end_time": "2025-02-14T19:31:11.917298",
     "exception": false,
     "start_time": "2025-02-14T19:31:11.899947",
     "status": "completed"
    },
    "tags": []
   },
   "outputs": [
    {
     "data": {
      "text/plain": [
       "Poster_Link        0\n",
       "Series_Title       0\n",
       "Released_Year      0\n",
       "Certificate      101\n",
       "Runtime            0\n",
       "Genre              0\n",
       "IMDB_Rating        0\n",
       "Overview           0\n",
       "Meta_score       157\n",
       "Director           0\n",
       "Star1              0\n",
       "Star2              0\n",
       "Star3              0\n",
       "Star4              0\n",
       "No_of_Votes        0\n",
       "Gross            169\n",
       "dtype: int64"
      ]
     },
     "execution_count": 4,
     "metadata": {},
     "output_type": "execute_result"
    }
   ],
   "source": [
    "df.isnull().sum()"
   ]
  },
  {
   "cell_type": "code",
   "execution_count": 5,
   "id": "34246337",
   "metadata": {
    "execution": {
     "iopub.execute_input": "2025-02-14T19:31:11.930263Z",
     "iopub.status.busy": "2025-02-14T19:31:11.929941Z",
     "iopub.status.idle": "2025-02-14T19:31:11.938554Z",
     "shell.execute_reply": "2025-02-14T19:31:11.937531Z"
    },
    "papermill": {
     "duration": 0.016889,
     "end_time": "2025-02-14T19:31:11.940198",
     "exception": false,
     "start_time": "2025-02-14T19:31:11.923309",
     "status": "completed"
    },
    "tags": []
   },
   "outputs": [],
   "source": [
    "# Clean and convert 'Gross' to numeric\n",
    "df['Gross'] = df['Gross'].str.replace(',', '').astype(float)\n",
    "\n",
    "# Clean and convert 'Runtime' to numeric\n",
    "df['Runtime'] = df['Runtime'].str.replace(' min', '').astype(int)\n",
    "\n",
    "# Convert 'Released_Year' to numeric\n",
    "df['Released_Year'] = pd.to_numeric(df['Released_Year'], errors='coerce')"
   ]
  },
  {
   "cell_type": "code",
   "execution_count": 6,
   "id": "c81a68ab",
   "metadata": {
    "execution": {
     "iopub.execute_input": "2025-02-14T19:31:11.952780Z",
     "iopub.status.busy": "2025-02-14T19:31:11.952473Z",
     "iopub.status.idle": "2025-02-14T19:31:11.959063Z",
     "shell.execute_reply": "2025-02-14T19:31:11.958051Z"
    },
    "papermill": {
     "duration": 0.014728,
     "end_time": "2025-02-14T19:31:11.960769",
     "exception": false,
     "start_time": "2025-02-14T19:31:11.946041",
     "status": "completed"
    },
    "tags": []
   },
   "outputs": [
    {
     "data": {
      "text/plain": [
       "Poster_Link       object\n",
       "Series_Title      object\n",
       "Released_Year    float64\n",
       "Certificate       object\n",
       "Runtime            int64\n",
       "Genre             object\n",
       "IMDB_Rating      float64\n",
       "Overview          object\n",
       "Meta_score       float64\n",
       "Director          object\n",
       "Star1             object\n",
       "Star2             object\n",
       "Star3             object\n",
       "Star4             object\n",
       "No_of_Votes        int64\n",
       "Gross            float64\n",
       "dtype: object"
      ]
     },
     "execution_count": 6,
     "metadata": {},
     "output_type": "execute_result"
    }
   ],
   "source": [
    "# Check data types\n",
    "df.dtypes"
   ]
  },
  {
   "cell_type": "code",
   "execution_count": 7,
   "id": "cdc2a44c",
   "metadata": {
    "execution": {
     "iopub.execute_input": "2025-02-14T19:31:11.973896Z",
     "iopub.status.busy": "2025-02-14T19:31:11.973589Z",
     "iopub.status.idle": "2025-02-14T19:31:11.988939Z",
     "shell.execute_reply": "2025-02-14T19:31:11.988030Z"
    },
    "papermill": {
     "duration": 0.023297,
     "end_time": "2025-02-14T19:31:11.990300",
     "exception": false,
     "start_time": "2025-02-14T19:31:11.967003",
     "status": "completed"
    },
    "tags": []
   },
   "outputs": [
    {
     "data": {
      "text/plain": [
       "Poster_Link      0\n",
       "Series_Title     0\n",
       "Released_Year    0\n",
       "Certificate      0\n",
       "Runtime          0\n",
       "Genre            0\n",
       "IMDB_Rating      0\n",
       "Overview         0\n",
       "Meta_score       0\n",
       "Director         0\n",
       "Star1            0\n",
       "Star2            0\n",
       "Star3            0\n",
       "Star4            0\n",
       "No_of_Votes      0\n",
       "Gross            0\n",
       "dtype: int64"
      ]
     },
     "execution_count": 7,
     "metadata": {},
     "output_type": "execute_result"
    }
   ],
   "source": [
    "# Drop rows with missing values\n",
    "df.dropna(inplace=True)\n",
    "\n",
    "# Verify missing values\n",
    "df.isnull().sum()"
   ]
  },
  {
   "cell_type": "code",
   "execution_count": 8,
   "id": "cc1fdda8",
   "metadata": {
    "execution": {
     "iopub.execute_input": "2025-02-14T19:31:12.003436Z",
     "iopub.status.busy": "2025-02-14T19:31:12.003084Z",
     "iopub.status.idle": "2025-02-14T19:31:12.008548Z",
     "shell.execute_reply": "2025-02-14T19:31:12.007614Z"
    },
    "papermill": {
     "duration": 0.013699,
     "end_time": "2025-02-14T19:31:12.010005",
     "exception": false,
     "start_time": "2025-02-14T19:31:11.996306",
     "status": "completed"
    },
    "tags": []
   },
   "outputs": [
    {
     "data": {
      "text/plain": [
       "(713, 16)"
      ]
     },
     "execution_count": 8,
     "metadata": {},
     "output_type": "execute_result"
    }
   ],
   "source": [
    "df.shape"
   ]
  },
  {
   "cell_type": "code",
   "execution_count": 9,
   "id": "417a5ee2",
   "metadata": {
    "execution": {
     "iopub.execute_input": "2025-02-14T19:31:12.023281Z",
     "iopub.status.busy": "2025-02-14T19:31:12.022950Z",
     "iopub.status.idle": "2025-02-14T19:31:12.037414Z",
     "shell.execute_reply": "2025-02-14T19:31:12.036419Z"
    },
    "papermill": {
     "duration": 0.022725,
     "end_time": "2025-02-14T19:31:12.038987",
     "exception": false,
     "start_time": "2025-02-14T19:31:12.016262",
     "status": "completed"
    },
    "tags": []
   },
   "outputs": [
    {
     "data": {
      "text/plain": [
       "(713, 16)"
      ]
     },
     "execution_count": 9,
     "metadata": {},
     "output_type": "execute_result"
    }
   ],
   "source": [
    "# Remove duplicate rows if needed\n",
    "df.drop_duplicates(inplace=True)\n",
    "\n",
    "df.shape"
   ]
  },
  {
   "cell_type": "markdown",
   "id": "7e89b861",
   "metadata": {
    "papermill": {
     "duration": 0.005681,
     "end_time": "2025-02-14T19:31:12.050781",
     "exception": false,
     "start_time": "2025-02-14T19:31:12.045100",
     "status": "completed"
    },
    "tags": []
   },
   "source": [
    "## Data Analysis"
   ]
  },
  {
   "cell_type": "code",
   "execution_count": 10,
   "id": "af661f59",
   "metadata": {
    "execution": {
     "iopub.execute_input": "2025-02-14T19:31:12.063933Z",
     "iopub.status.busy": "2025-02-14T19:31:12.063577Z",
     "iopub.status.idle": "2025-02-14T19:31:12.089412Z",
     "shell.execute_reply": "2025-02-14T19:31:12.088336Z"
    },
    "papermill": {
     "duration": 0.034249,
     "end_time": "2025-02-14T19:31:12.091028",
     "exception": false,
     "start_time": "2025-02-14T19:31:12.056779",
     "status": "completed"
    },
    "tags": []
   },
   "outputs": [
    {
     "data": {
      "text/html": [
       "<div>\n",
       "<style scoped>\n",
       "    .dataframe tbody tr th:only-of-type {\n",
       "        vertical-align: middle;\n",
       "    }\n",
       "\n",
       "    .dataframe tbody tr th {\n",
       "        vertical-align: top;\n",
       "    }\n",
       "\n",
       "    .dataframe thead th {\n",
       "        text-align: right;\n",
       "    }\n",
       "</style>\n",
       "<table border=\"1\" class=\"dataframe\">\n",
       "  <thead>\n",
       "    <tr style=\"text-align: right;\">\n",
       "      <th></th>\n",
       "      <th>Released_Year</th>\n",
       "      <th>Runtime</th>\n",
       "      <th>IMDB_Rating</th>\n",
       "      <th>Meta_score</th>\n",
       "      <th>No_of_Votes</th>\n",
       "      <th>Gross</th>\n",
       "    </tr>\n",
       "  </thead>\n",
       "  <tbody>\n",
       "    <tr>\n",
       "      <th>count</th>\n",
       "      <td>713.000000</td>\n",
       "      <td>713.000000</td>\n",
       "      <td>713.000000</td>\n",
       "      <td>713.000000</td>\n",
       "      <td>7.130000e+02</td>\n",
       "      <td>7.130000e+02</td>\n",
       "    </tr>\n",
       "    <tr>\n",
       "      <th>mean</th>\n",
       "      <td>1995.736325</td>\n",
       "      <td>123.692847</td>\n",
       "      <td>7.937588</td>\n",
       "      <td>77.158485</td>\n",
       "      <td>3.562568e+05</td>\n",
       "      <td>7.837989e+07</td>\n",
       "    </tr>\n",
       "    <tr>\n",
       "      <th>std</th>\n",
       "      <td>18.598222</td>\n",
       "      <td>25.898509</td>\n",
       "      <td>0.293211</td>\n",
       "      <td>12.409849</td>\n",
       "      <td>3.541346e+05</td>\n",
       "      <td>1.150031e+08</td>\n",
       "    </tr>\n",
       "    <tr>\n",
       "      <th>min</th>\n",
       "      <td>1930.000000</td>\n",
       "      <td>72.000000</td>\n",
       "      <td>7.600000</td>\n",
       "      <td>28.000000</td>\n",
       "      <td>2.522900e+04</td>\n",
       "      <td>1.305000e+03</td>\n",
       "    </tr>\n",
       "    <tr>\n",
       "      <th>25%</th>\n",
       "      <td>1987.000000</td>\n",
       "      <td>104.000000</td>\n",
       "      <td>7.700000</td>\n",
       "      <td>70.000000</td>\n",
       "      <td>9.582600e+04</td>\n",
       "      <td>6.153939e+06</td>\n",
       "    </tr>\n",
       "    <tr>\n",
       "      <th>50%</th>\n",
       "      <td>2001.000000</td>\n",
       "      <td>120.000000</td>\n",
       "      <td>7.900000</td>\n",
       "      <td>78.000000</td>\n",
       "      <td>2.363110e+05</td>\n",
       "      <td>3.470029e+07</td>\n",
       "    </tr>\n",
       "    <tr>\n",
       "      <th>75%</th>\n",
       "      <td>2010.000000</td>\n",
       "      <td>136.000000</td>\n",
       "      <td>8.100000</td>\n",
       "      <td>86.000000</td>\n",
       "      <td>5.084170e+05</td>\n",
       "      <td>1.023089e+08</td>\n",
       "    </tr>\n",
       "    <tr>\n",
       "      <th>max</th>\n",
       "      <td>2019.000000</td>\n",
       "      <td>238.000000</td>\n",
       "      <td>9.300000</td>\n",
       "      <td>100.000000</td>\n",
       "      <td>2.343110e+06</td>\n",
       "      <td>9.366622e+08</td>\n",
       "    </tr>\n",
       "  </tbody>\n",
       "</table>\n",
       "</div>"
      ],
      "text/plain": [
       "       Released_Year     Runtime  IMDB_Rating  Meta_score   No_of_Votes  \\\n",
       "count     713.000000  713.000000   713.000000  713.000000  7.130000e+02   \n",
       "mean     1995.736325  123.692847     7.937588   77.158485  3.562568e+05   \n",
       "std        18.598222   25.898509     0.293211   12.409849  3.541346e+05   \n",
       "min      1930.000000   72.000000     7.600000   28.000000  2.522900e+04   \n",
       "25%      1987.000000  104.000000     7.700000   70.000000  9.582600e+04   \n",
       "50%      2001.000000  120.000000     7.900000   78.000000  2.363110e+05   \n",
       "75%      2010.000000  136.000000     8.100000   86.000000  5.084170e+05   \n",
       "max      2019.000000  238.000000     9.300000  100.000000  2.343110e+06   \n",
       "\n",
       "              Gross  \n",
       "count  7.130000e+02  \n",
       "mean   7.837989e+07  \n",
       "std    1.150031e+08  \n",
       "min    1.305000e+03  \n",
       "25%    6.153939e+06  \n",
       "50%    3.470029e+07  \n",
       "75%    1.023089e+08  \n",
       "max    9.366622e+08  "
      ]
     },
     "execution_count": 10,
     "metadata": {},
     "output_type": "execute_result"
    }
   ],
   "source": [
    "# Summary statistics for numeric columns\n",
    "df.describe()"
   ]
  },
  {
   "cell_type": "code",
   "execution_count": 11,
   "id": "bbdb088b",
   "metadata": {
    "execution": {
     "iopub.execute_input": "2025-02-14T19:31:12.104530Z",
     "iopub.status.busy": "2025-02-14T19:31:12.104188Z",
     "iopub.status.idle": "2025-02-14T19:31:12.116996Z",
     "shell.execute_reply": "2025-02-14T19:31:12.115983Z"
    },
    "papermill": {
     "duration": 0.021023,
     "end_time": "2025-02-14T19:31:12.118496",
     "exception": false,
     "start_time": "2025-02-14T19:31:12.097473",
     "status": "completed"
    },
    "tags": []
   },
   "outputs": [
    {
     "data": {
      "text/html": [
       "<div>\n",
       "<style scoped>\n",
       "    .dataframe tbody tr th:only-of-type {\n",
       "        vertical-align: middle;\n",
       "    }\n",
       "\n",
       "    .dataframe tbody tr th {\n",
       "        vertical-align: top;\n",
       "    }\n",
       "\n",
       "    .dataframe thead th {\n",
       "        text-align: right;\n",
       "    }\n",
       "</style>\n",
       "<table border=\"1\" class=\"dataframe\">\n",
       "  <thead>\n",
       "    <tr style=\"text-align: right;\">\n",
       "      <th></th>\n",
       "      <th>Series_Title</th>\n",
       "      <th>IMDB_Rating</th>\n",
       "    </tr>\n",
       "  </thead>\n",
       "  <tbody>\n",
       "    <tr>\n",
       "      <th>0</th>\n",
       "      <td>The Shawshank Redemption</td>\n",
       "      <td>9.3</td>\n",
       "    </tr>\n",
       "    <tr>\n",
       "      <th>1</th>\n",
       "      <td>The Godfather</td>\n",
       "      <td>9.2</td>\n",
       "    </tr>\n",
       "    <tr>\n",
       "      <th>2</th>\n",
       "      <td>The Dark Knight</td>\n",
       "      <td>9.0</td>\n",
       "    </tr>\n",
       "    <tr>\n",
       "      <th>3</th>\n",
       "      <td>The Godfather: Part II</td>\n",
       "      <td>9.0</td>\n",
       "    </tr>\n",
       "    <tr>\n",
       "      <th>4</th>\n",
       "      <td>12 Angry Men</td>\n",
       "      <td>9.0</td>\n",
       "    </tr>\n",
       "    <tr>\n",
       "      <th>5</th>\n",
       "      <td>The Lord of the Rings: The Return of the King</td>\n",
       "      <td>8.9</td>\n",
       "    </tr>\n",
       "    <tr>\n",
       "      <th>6</th>\n",
       "      <td>Pulp Fiction</td>\n",
       "      <td>8.9</td>\n",
       "    </tr>\n",
       "    <tr>\n",
       "      <th>7</th>\n",
       "      <td>Schindler's List</td>\n",
       "      <td>8.9</td>\n",
       "    </tr>\n",
       "    <tr>\n",
       "      <th>10</th>\n",
       "      <td>The Lord of the Rings: The Fellowship of the Ring</td>\n",
       "      <td>8.8</td>\n",
       "    </tr>\n",
       "    <tr>\n",
       "      <th>12</th>\n",
       "      <td>Il buono, il brutto, il cattivo</td>\n",
       "      <td>8.8</td>\n",
       "    </tr>\n",
       "  </tbody>\n",
       "</table>\n",
       "</div>"
      ],
      "text/plain": [
       "                                         Series_Title  IMDB_Rating\n",
       "0                            The Shawshank Redemption          9.3\n",
       "1                                       The Godfather          9.2\n",
       "2                                     The Dark Knight          9.0\n",
       "3                              The Godfather: Part II          9.0\n",
       "4                                        12 Angry Men          9.0\n",
       "5       The Lord of the Rings: The Return of the King          8.9\n",
       "6                                        Pulp Fiction          8.9\n",
       "7                                    Schindler's List          8.9\n",
       "10  The Lord of the Rings: The Fellowship of the Ring          8.8\n",
       "12                    Il buono, il brutto, il cattivo          8.8"
      ]
     },
     "execution_count": 11,
     "metadata": {},
     "output_type": "execute_result"
    }
   ],
   "source": [
    "# Top 10 Highest Rated Movies\n",
    "# Sort by IMDb rating and display the top 10\n",
    "top_10_rated = df.sort_values(by='IMDB_Rating', ascending=False).head(10)\n",
    "top_10_rated[['Series_Title', 'IMDB_Rating']]"
   ]
  },
  {
   "cell_type": "code",
   "execution_count": 12,
   "id": "37a77b20",
   "metadata": {
    "execution": {
     "iopub.execute_input": "2025-02-14T19:31:12.132904Z",
     "iopub.status.busy": "2025-02-14T19:31:12.132596Z",
     "iopub.status.idle": "2025-02-14T19:31:12.151358Z",
     "shell.execute_reply": "2025-02-14T19:31:12.150483Z"
    },
    "papermill": {
     "duration": 0.027499,
     "end_time": "2025-02-14T19:31:12.152946",
     "exception": false,
     "start_time": "2025-02-14T19:31:12.125447",
     "status": "completed"
    },
    "tags": []
   },
   "outputs": [
    {
     "data": {
      "text/plain": [
       "Drama        499\n",
       "Adventure    162\n",
       "Comedy       161\n",
       "Crime        142\n",
       "Action       140\n",
       "Thriller      99\n",
       "Biography     88\n",
       "Romance       88\n",
       "Mystery       70\n",
       "Animation     63\n",
       "Sci-Fi        56\n",
       "Fantasy       55\n",
       "Family        43\n",
       "History       37\n",
       "War           29\n",
       "Music         27\n",
       "Horror        18\n",
       "Sport         17\n",
       "Western       16\n",
       "Musical       11\n",
       "Film-Noir      6\n",
       "Name: count, dtype: int64"
      ]
     },
     "execution_count": 12,
     "metadata": {},
     "output_type": "execute_result"
    }
   ],
   "source": [
    "# Most Common Genres\n",
    "# Count the frequency of each genre\n",
    "genre_counts = df['Genre'].str.split(', ', expand=True).stack().value_counts()\n",
    "genre_counts"
   ]
  },
  {
   "cell_type": "code",
   "execution_count": 13,
   "id": "4ef96bab",
   "metadata": {
    "execution": {
     "iopub.execute_input": "2025-02-14T19:31:12.166984Z",
     "iopub.status.busy": "2025-02-14T19:31:12.166698Z",
     "iopub.status.idle": "2025-02-14T19:31:12.185877Z",
     "shell.execute_reply": "2025-02-14T19:31:12.185074Z"
    },
    "papermill": {
     "duration": 0.027845,
     "end_time": "2025-02-14T19:31:12.187339",
     "exception": false,
     "start_time": "2025-02-14T19:31:12.159494",
     "status": "completed"
    },
    "tags": []
   },
   "outputs": [
    {
     "data": {
      "text/plain": [
       "Genre\n",
       "Musical      148.181818\n",
       "History      146.945946\n",
       "War          138.793103\n",
       "Biography    135.818182\n",
       "Western      134.562500\n",
       "Drama        128.102204\n",
       "Sport        126.470588\n",
       "Action       126.271429\n",
       "Adventure    126.018519\n",
       "Mystery      124.514286\n",
       "Crime        124.197183\n",
       "Sci-Fi       122.392857\n",
       "Romance      121.045455\n",
       "Thriller     120.939394\n",
       "Music        118.370370\n",
       "Fantasy      116.745455\n",
       "Family       115.279070\n",
       "Horror       111.111111\n",
       "Comedy       108.198758\n",
       "Film-Noir    103.333333\n",
       "Animation     99.793651\n",
       "Name: Runtime, dtype: float64"
      ]
     },
     "execution_count": 13,
     "metadata": {},
     "output_type": "execute_result"
    }
   ],
   "source": [
    "# Average Runtime by Genre\n",
    "# Split genres and calculate average runtime\n",
    "df['Genre'] = df['Genre'].str.split(', ')\n",
    "df_exploded = df.explode('Genre')\n",
    "avg_runtime_by_genre = df_exploded.groupby('Genre')['Runtime'].mean().sort_values(ascending=False)\n",
    "avg_runtime_by_genre"
   ]
  },
  {
   "cell_type": "markdown",
   "id": "fbd468fe",
   "metadata": {
    "papermill": {
     "duration": 0.006331,
     "end_time": "2025-02-14T19:31:12.200425",
     "exception": false,
     "start_time": "2025-02-14T19:31:12.194094",
     "status": "completed"
    },
    "tags": []
   },
   "source": [
    "## Data Visualization"
   ]
  },
  {
   "cell_type": "code",
   "execution_count": 14,
   "id": "9186d3ae",
   "metadata": {
    "execution": {
     "iopub.execute_input": "2025-02-14T19:31:12.214722Z",
     "iopub.status.busy": "2025-02-14T19:31:12.214403Z",
     "iopub.status.idle": "2025-02-14T19:31:12.580561Z",
     "shell.execute_reply": "2025-02-14T19:31:12.579533Z"
    },
    "papermill": {
     "duration": 0.375349,
     "end_time": "2025-02-14T19:31:12.582356",
     "exception": false,
     "start_time": "2025-02-14T19:31:12.207007",
     "status": "completed"
    },
    "tags": []
   },
   "outputs": [
    {
     "name": "stderr",
     "output_type": "stream",
     "text": [
      "/usr/local/lib/python3.10/dist-packages/seaborn/_oldcore.py:1119: FutureWarning: use_inf_as_na option is deprecated and will be removed in a future version. Convert inf values to NaN before operating instead.\n",
      "  with pd.option_context('mode.use_inf_as_na', True):\n"
     ]
    },
    {
     "data": {
      "image/png": "[encoded data removed]",
      "text/plain": [
       "<Figure size 1000x600 with 1 Axes>"
      ]
     },
     "metadata": {},
     "output_type": "display_data"
    }
   ],
   "source": [
    "# Distribution of IMDb Ratings\n",
    "# Plot a histogram of IMDb ratings\n",
    "plt.figure(figsize=(10, 6))\n",
    "sns.histplot(df['IMDB_Rating'], bins=30, kde=True, color='blue')\n",
    "plt.title('Distribution of IMDb Ratings')\n",
    "plt.xlabel('IMDb Rating')\n",
    "plt.ylabel('Frequency')\n",
    "plt.show()"
   ]
  },
  {
   "cell_type": "code",
   "execution_count": 15,
   "id": "a798f6e9",
   "metadata": {
    "execution": {
     "iopub.execute_input": "2025-02-14T19:31:12.599127Z",
     "iopub.status.busy": "2025-02-14T19:31:12.598744Z",
     "iopub.status.idle": "2025-02-14T19:31:12.871705Z",
     "shell.execute_reply": "2025-02-14T19:31:12.870670Z"
    },
    "papermill": {
     "duration": 0.283248,
     "end_time": "2025-02-14T19:31:12.873479",
     "exception": false,
     "start_time": "2025-02-14T19:31:12.590231",
     "status": "completed"
    },
    "tags": []
   },
   "outputs": [
    {
     "data": {
      "image/png": "[encoded data removed]",
      "text/plain": [
       "<Figure size 1000x600 with 1 Axes>"
      ]
     },
     "metadata": {},
     "output_type": "display_data"
    }
   ],
   "source": [
    "# Top 10 Genres by Movie Count\n",
    "# Plot the top 10 genres\n",
    "plt.figure(figsize=(10, 6))\n",
    "genre_counts.head(10).plot(kind='bar', color='orange')\n",
    "plt.title('Top 10 Genres by Movie Count')\n",
    "plt.xlabel('Genre')\n",
    "plt.ylabel('Number of Movies')\n",
    "plt.show()"
   ]
  },
  {
   "cell_type": "code",
   "execution_count": 16,
   "id": "155afb5a",
   "metadata": {
    "execution": {
     "iopub.execute_input": "2025-02-14T19:31:12.891439Z",
     "iopub.status.busy": "2025-02-14T19:31:12.891045Z",
     "iopub.status.idle": "2025-02-14T19:31:13.116562Z",
     "shell.execute_reply": "2025-02-14T19:31:13.115570Z"
    },
    "papermill": {
     "duration": 0.236636,
     "end_time": "2025-02-14T19:31:13.118359",
     "exception": false,
     "start_time": "2025-02-14T19:31:12.881723",
     "status": "completed"
    },
    "tags": []
   },
   "outputs": [
    {
     "data": {
      "image/png": "[encoded data removed]",
      "text/plain": [
       "<Figure size 1000x600 with 1 Axes>"
      ]
     },
     "metadata": {},
     "output_type": "display_data"
    }
   ],
   "source": [
    "# Runtime vs. IMDb Rating\n",
    "# Scatter plot of Runtime vs. IMDb Rating\n",
    "plt.figure(figsize=(10, 6))\n",
    "sns.scatterplot(x='Runtime', y='IMDB_Rating', data=df, alpha=0.6, color='green')\n",
    "plt.title('Runtime vs. IMDb Rating')\n",
    "plt.xlabel('Runtime (minutes)')\n",
    "plt.ylabel('IMDb Rating')\n",
    "plt.show()"
   ]
  },
  {
   "cell_type": "code",
   "execution_count": 17,
   "id": "b2adf60f",
   "metadata": {
    "execution": {
     "iopub.execute_input": "2025-02-14T19:31:13.138123Z",
     "iopub.status.busy": "2025-02-14T19:31:13.137785Z",
     "iopub.status.idle": "2025-02-14T19:31:13.356648Z",
     "shell.execute_reply": "2025-02-14T19:31:13.355630Z"
    },
    "papermill": {
     "duration": 0.230774,
     "end_time": "2025-02-14T19:31:13.358470",
     "exception": false,
     "start_time": "2025-02-14T19:31:13.127696",
     "status": "completed"
    },
    "tags": []
   },
   "outputs": [
    {
     "data": {
      "image/png": "[encoded data removed]",
      "text/plain": [
       "<Figure size 1200x600 with 1 Axes>"
      ]
     },
     "metadata": {},
     "output_type": "display_data"
    }
   ],
   "source": [
    "# Gross Earnings by Year\n",
    "# Group by year and calculate total gross earnings\n",
    "gross_by_year = df.groupby('Released_Year')['Gross'].sum()\n",
    "\n",
    "# Plot gross earnings by year\n",
    "plt.figure(figsize=(12, 6))\n",
    "gross_by_year.plot(kind='line', color='purple')\n",
    "plt.title('Gross Earnings by Year')\n",
    "plt.xlabel('Year')\n",
    "plt.ylabel('Total Gross Earnings')\n",
    "plt.show()"
   ]
  },
  {
   "cell_type": "markdown",
   "id": "20004626",
   "metadata": {
    "papermill": {
     "duration": 0.009859,
     "end_time": "2025-02-14T19:31:13.378865",
     "exception": false,
     "start_time": "2025-02-14T19:31:13.369006",
     "status": "completed"
    },
    "tags": []
   },
   "source": [
    "## Key Insights"
   ]
  },
  {
   "cell_type": "code",
   "execution_count": 18,
   "id": "676f75ac",
   "metadata": {
    "execution": {
     "iopub.execute_input": "2025-02-14T19:31:13.399911Z",
     "iopub.status.busy": "2025-02-14T19:31:13.399584Z",
     "iopub.status.idle": "2025-02-14T19:31:13.405150Z",
     "shell.execute_reply": "2025-02-14T19:31:13.404083Z"
    },
    "papermill": {
     "duration": 0.018054,
     "end_time": "2025-02-14T19:31:13.406736",
     "exception": false,
     "start_time": "2025-02-14T19:31:13.388682",
     "status": "completed"
    },
    "tags": []
   },
   "outputs": [
    {
     "name": "stdout",
     "output_type": "stream",
     "text": [
      "Most Popular Genres:\n",
      "Drama        499\n",
      "Adventure    162\n",
      "Comedy       161\n",
      "Crime        142\n",
      "Action       140\n",
      "Name: count, dtype: int64\n"
     ]
    }
   ],
   "source": [
    "# Most Popular Genres\n",
    "print(\"Most Popular Genres:\")\n",
    "print(genre_counts.head(5))"
   ]
  },
  {
   "cell_type": "code",
   "execution_count": 19,
   "id": "64f16a1b",
   "metadata": {
    "execution": {
     "iopub.execute_input": "2025-02-14T19:31:13.428367Z",
     "iopub.status.busy": "2025-02-14T19:31:13.428042Z",
     "iopub.status.idle": "2025-02-14T19:31:13.433873Z",
     "shell.execute_reply": "2025-02-14T19:31:13.432943Z"
    },
    "papermill": {
     "duration": 0.018462,
     "end_time": "2025-02-14T19:31:13.435453",
     "exception": false,
     "start_time": "2025-02-14T19:31:13.416991",
     "status": "completed"
    },
    "tags": []
   },
   "outputs": [
    {
     "name": "stdout",
     "output_type": "stream",
     "text": [
      "Correlation between Runtime and IMDb Rating: 0.26\n"
     ]
    }
   ],
   "source": [
    "# Correlation Between Runtime and Rating\n",
    "correlation = df['Runtime'].corr(df['IMDB_Rating'])\n",
    "print(f\"Correlation between Runtime and IMDb Rating: {correlation:.2f}\")"
   ]
  },
  {
   "cell_type": "code",
   "execution_count": 20,
   "id": "dfcbb569",
   "metadata": {
    "execution": {
     "iopub.execute_input": "2025-02-14T19:31:13.457874Z",
     "iopub.status.busy": "2025-02-14T19:31:13.457527Z",
     "iopub.status.idle": "2025-02-14T19:31:13.466326Z",
     "shell.execute_reply": "2025-02-14T19:31:13.465068Z"
    },
    "papermill": {
     "duration": 0.022013,
     "end_time": "2025-02-14T19:31:13.468009",
     "exception": false,
     "start_time": "2025-02-14T19:31:13.445996",
     "status": "completed"
    },
    "tags": []
   },
   "outputs": [
    {
     "name": "stdout",
     "output_type": "stream",
     "text": [
      "Top 5 Directors by Average IMDb Rating:\n",
      "Director\n",
      "Frank Darabont     8.95\n",
      "Lana Wachowski     8.70\n",
      "Irvin Kershner     8.70\n",
      "George Lucas       8.60\n",
      "Roberto Benigni    8.60\n",
      "Name: IMDB_Rating, dtype: float64\n"
     ]
    }
   ],
   "source": [
    "# Top 5 Directors with Highest Average Ratings\n",
    "top_directors = df.groupby('Director')['IMDB_Rating'].mean().sort_values(ascending=False).head(5)\n",
    "print(\"Top 5 Directors by Average IMDb Rating:\")\n",
    "print(top_directors)"
   ]
  },
  {
   "cell_type": "code",
   "execution_count": 21,
   "id": "7dbfb2de",
   "metadata": {
    "execution": {
     "iopub.execute_input": "2025-02-14T19:31:13.490302Z",
     "iopub.status.busy": "2025-02-14T19:31:13.489974Z",
     "iopub.status.idle": "2025-02-14T19:31:13.494774Z",
     "shell.execute_reply": "2025-02-14T19:31:13.493837Z"
    },
    "papermill": {
     "duration": 0.017633,
     "end_time": "2025-02-14T19:31:13.496242",
     "exception": false,
     "start_time": "2025-02-14T19:31:13.478609",
     "status": "completed"
    },
    "tags": []
   },
   "outputs": [
    {
     "name": "stdout",
     "output_type": "stream",
     "text": [
      "Year with the Highest Gross Earnings: 2009.0 ($2,936,473,252.00)\n"
     ]
    }
   ],
   "source": [
    "# Year with the Highest Gross Earnings\n",
    "max_gross_year = gross_by_year.idxmax()\n",
    "max_gross_value = gross_by_year.max()\n",
    "print(f\"Year with the Highest Gross Earnings: {max_gross_year} (${max_gross_value:,.2f})\")"
   ]
  },
  {
   "cell_type": "markdown",
   "id": "43f53478",
   "metadata": {
    "papermill": {
     "duration": 0.010044,
     "end_time": "2025-02-14T19:31:13.517098",
     "exception": false,
     "start_time": "2025-02-14T19:31:13.507054",
     "status": "completed"
    },
    "tags": []
   },
   "source": [
    "## **Conclusion**\n",
    "\n",
    "The analysis of the IMDb Top 1000 Movies dataset provided valuable insights into the characteristics of highly-rated films. Here are the key takeaways:\n",
    "\n",
    "\n",
    "### 1. Dataset Overview\n",
    "- The dataset contains **713 movies** after cleaning, with **16 variables** including movie title, release year, runtime, genre, IMDb rating, meta score, director, stars, number of votes, and gross earnings.\n",
    "\n",
    "\n",
    "### 2. Summary Statistics\n",
    "- The average IMDb rating of the movies is **7.94**, with a minimum of **7.6** and a maximum of **9.3**.\n",
    "- The average runtime is **123.69 minutes**, with the longest movie being **238 minutes**.\n",
    "- The average gross earnings per movie is **$78.38 million**, with the highest-grossing movie earning **$936.66 million**.\n",
    "\n",
    "\n",
    "### 3. Top 10 Highest-Rated Movies\n",
    "- The highest-rated movie is **\"The Shawshank Redemption\"** with an IMDb rating of **9.3**, followed by **\"The Godfather\"** (9.2) and **\"The Dark Knight\"** (9.0).\n",
    "\n",
    "\n",
    "### 4. Most Popular Genres\n",
    "- The most common genres in the dataset are **Drama** (499 movies), **Adventure** (162 movies), and **Comedy** (161 movies).\n",
    "- **Drama** dominates the list, indicating its popularity among highly-rated films.\n",
    "\n",
    "\n",
    "### 5. Average Runtime by Genre\n",
    "- **Musicals** have the longest average runtime (**148.18 minutes**), followed by **History** (146.95 minutes) and **War** (138.79 minutes).\n",
    "- **Animation** has the shortest average runtime (**99.79 minutes**).\n",
    "\n",
    "\n",
    "### 6. Distribution of IMDb Ratings\n",
    "- The IMDb ratings are **normally distributed**, with most movies rated between **7.6 and 8.5**.\n",
    "\n",
    "\n",
    "### 7. Runtime vs. IMDb Rating\n",
    "- There is a **weak positive correlation (0.26)** between runtime and IMDb rating, suggesting that longer movies tend to have slightly higher ratings.\n",
    "\n",
    "\n",
    "### 8. Gross Earnings by Year\n",
    "- The year **2009** had the highest total gross earnings (**$2.94 billion**), driven by blockbuster releases.\n",
    "\n",
    "\n",
    "### 9. Top Directors\n",
    "- **Frank Darabont** has the highest average IMDb rating (**8.95**), followed by **Lana Wachowski** and **Irvin Kershner** (8.70 each).\n",
    "\n",
    "\n",
    "### 10. Key Insights\n",
    "- **Drama** is the most popular genre among highly-rated movies.\n",
    "- Longer movies (e.g., Musicals, History, and War genres) tend to have higher ratings.\n",
    "- The year **2009** was the most profitable for the film industry, with the highest total gross earnings.\n",
    "\n",
    "\n",
    "\n",
    "## **Recommendations**\n",
    "- **For Moviegoers**: If you enjoy highly-rated movies, focus on **Drama** and **Adventure** genres, and explore works by top directors like **Frank Darabont** and **Irvin Kershner**.\n",
    "- **For Filmmakers**: Consider producing **longer films** in genres like **Musicals** or **History**, as they tend to receive higher ratings.\n",
    "- **For Investors**: Invest in movies released during **peak years** like **2009**, which saw the highest gross earnings.\n",
    "\n",
    "\n",
    "## **Limitations**\n",
    "- The dataset only includes movies from the **IMDb Top 1000**, which may not represent the entire film industry.\n",
    "- Some columns (e.g., `Gross`) had missing values.\n",
    "\n",
    "\n",
    "## **Future Work**\n",
    "- Analyze the impact of **directors** and **actors** on movie ratings and earnings.\n",
    "- Explore the relationship between **meta scores** and **IMDb ratings**.\n",
    "- Investigate trends in **genre popularity** over time."
   ]
  },
  {
   "cell_type": "code",
   "execution_count": 22,
   "id": "75d04eb9",
   "metadata": {
    "execution": {
     "iopub.execute_input": "2025-02-14T19:31:13.539209Z",
     "iopub.status.busy": "2025-02-14T19:31:13.538865Z",
     "iopub.status.idle": "2025-02-14T19:31:13.560040Z",
     "shell.execute_reply": "2025-02-14T19:31:13.559263Z"
    },
    "papermill": {
     "duration": 0.0344,
     "end_time": "2025-02-14T19:31:13.561755",
     "exception": false,
     "start_time": "2025-02-14T19:31:13.527355",
     "status": "completed"
    },
    "tags": []
   },
   "outputs": [],
   "source": [
    "# Saving the cleaned dataset\n",
    "df.to_csv('imdb_dataset_cleaned.csv', index=False)"
   ]
  }
 ],
 "metadata": {
  "kaggle": {
   "accelerator": "none",
   "dataSources": [
    {
     "datasetId": 1131493,
     "sourceId": 1898721,
     "sourceType": "datasetVersion"
    }
   ],
   "dockerImageVersionId": 30886,
   "isGpuEnabled": false,
   "isInternetEnabled": false,
   "language": "python",
   "sourceType": "notebook"
  },
  "kernelspec": {
   "display_name": "Python 3",
   "language": "python",
   "name": "python3"
  },
  "language_info": {
   "codemirror_mode": {
    "name": "ipython",
    "version": 3
   },
   "file_extension": ".py",
   "mimetype": "text/x-python",
   "name": "python",
   "nbconvert_exporter": "python",
   "pygments_lexer": "ipython3",
   "version": "3.10.12"
  },
  "papermill": {
   "default_parameters": {},
   "duration": 7.616522,
   "end_time": "2025-02-14T19:31:14.294682",
   "environment_variables": {},
   "exception": null,
   "input_path": "__notebook__.ipynb",
   "output_path": "__notebook__.ipynb",
   "parameters": {},
   "start_time": "2025-02-14T19:31:06.678160",
   "version": "2.6.0"
  }
 },
 "nbformat": 4,
 "nbformat_minor": 5
}
